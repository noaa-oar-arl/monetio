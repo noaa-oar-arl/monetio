{
 "cells": [
  {
   "cell_type": "markdown",
   "id": "04beaa7a-6f24-43db-9a7f-3a419fd26f82",
   "metadata": {},
   "source": [
    "# Observations"
   ]
  },
  {
   "cell_type": "code",
   "execution_count": null,
   "id": "7bd66350-98e3-4482-a790-4c03aa6baa2b",
   "metadata": {},
   "outputs": [],
   "source": [
    "import warnings\n",
    "\n",
    "import pandas as pd\n",
    "\n",
    "warnings.filterwarnings(\"ignore\", category=FutureWarning, message=\"The warn_bad_lines argument has been deprecated\")\n",
    "warnings.filterwarnings(\"ignore\", category=FutureWarning, message=\"The error_bad_lines argument has been deprecated\")\n",
    "warnings.filterwarnings(\"ignore\", category=FutureWarning, message=\"Argument `closed` is deprecated in favor of `inclusive`\")"
   ]
  },
  {
   "cell_type": "markdown",
   "id": "57a83632-1bdf-41f0-837b-1f2ed33bdbd4",
   "metadata": {},
   "source": [
    "## AERONET\n",
    "\n",
    "See {mod}`~monetio.aeronet` for more information about AERONET."
   ]
  },
  {
   "cell_type": "code",
   "execution_count": null,
   "id": "bd16039a-fd10-4e89-8b02-8733bddc408a",
   "metadata": {},
   "outputs": [],
   "source": [
    "from monetio import aeronet"
   ]
  },
  {
   "cell_type": "markdown",
   "id": "848b4050-8a30-4ff3-985b-0e8b2ddd254f",
   "metadata": {},
   "source": [
    "Aeronet is global data so we are going to look at a single day to speed this along.\n",
    "First we need to create a datetime array."
   ]
  },
  {
   "cell_type": "code",
   "execution_count": null,
   "id": "20f46bf4-1d77-46bf-b31c-8992762fd09e",
   "metadata": {},
   "outputs": [],
   "source": [
    "dates = pd.date_range(start='2017-09-25', freq='H', periods=24)\n",
    "dates"
   ]
  },
  {
   "cell_type": "markdown",
   "id": "caf6d447-ed71-4fdf-ad4c-32c8a5eec339",
   "metadata": {},
   "source": [
    "Now let's assume that we want to read the Aerosol Optical Depth Level 1.5 data, which is\n",
    "cloud-screened and quality controlled.\n",
    "To request AERONET data we use the {func}`~monetio.aeronet.add_data` function."
   ]
  },
  {
   "cell_type": "code",
   "execution_count": null,
   "id": "a7678ae0-4325-4d16-8992-891489179b20",
   "metadata": {},
   "outputs": [],
   "source": [
    "df = aeronet.add_data(dates=dates, product='AOD15')\n",
    "df.head()"
   ]
  },
  {
   "cell_type": "markdown",
   "id": "ad322740-40ac-432f-9474-524218fb7ece",
   "metadata": {},
   "source": [
    "Sometimes you only want data over a specific region. To do this let's define a\n",
    "latitude-longitude box\n",
    "```python\n",
    "[latmin, lonmin, latmax, lonmax]\n",
    "```\n",
    "over northern Africa."
   ]
  },
  {
   "cell_type": "code",
   "execution_count": null,
   "id": "4f001e9d-b974-48ff-b66f-918b8b862b72",
   "metadata": {},
   "outputs": [],
   "source": [
    "df = aeronet.add_data(dates=dates, product='AOD15', latlonbox=[2., -21, 38, 37])\n",
    "df[['latitude', 'longitude']].describe()"
   ]
  },
  {
   "cell_type": "markdown",
   "id": "ffab2bc6-b1a0-4e28-9d7c-e771c0e84c5c",
   "metadata": {},
   "source": [
    "To download inversion products you must supply the `inv_type` kwarg. It accepts either\n",
    "`'ALM15'`, `'ALM20'`, `'HYB15'`, or `'HYB20'`, as described [here](https://aeronet.gsfc.nasa.gov/print_web_data_help_v3_inv_new.html). Let's get the size distribution\n",
    "from data over northern Africa."
   ]
  },
  {
   "cell_type": "code",
   "execution_count": null,
   "id": "c63e6910-d8d8-41c3-aef7-9c7a59c597f6",
   "metadata": {},
   "outputs": [],
   "source": [
    "df = aeronet.add_data(dates=dates, product='SIZ', latlonbox=[2., -21, 38, 37], inv_type='ALM15')\n",
    "df.head()"
   ]
  },
  {
   "cell_type": "markdown",
   "id": "ddd712ac-c322-422a-a651-f12ab78aacf3",
   "metadata": {},
   "source": [
    "You can also:\n",
    "* request daily-average data instead\n",
    "* request a specific site ID from [the list](https://aeronet.gsfc.nasa.gov/aeronet_locations_v3.txt)"
   ]
  },
  {
   "cell_type": "markdown",
   "id": "f7906318-da6e-4ef4-a127-3f53119454ba",
   "metadata": {},
   "source": [
    "## AirNow\n",
    "\n",
    "{func}`monetio.airnow.add_data` downloads data from their Amazon S3 bucket and aggregates it, returning a {class}`~pandas.DataFrame`. For example, lets say that we want to look at data from 2018-05-01 to 2018-05-03."
   ]
  },
  {
   "cell_type": "code",
   "execution_count": null,
   "id": "b9df210b-fe98-4d29-83e7-93300c9c4c33",
   "metadata": {},
   "outputs": [],
   "source": [
    "from monetio import airnow"
   ]
  },
  {
   "cell_type": "code",
   "execution_count": null,
   "id": "1a953fb5-16d4-4be5-9e1a-9034506ca886",
   "metadata": {},
   "outputs": [],
   "source": [
    "dates = pd.date_range(start='2018-05-01', end='2018-05-03', freq='H', closed='left')"
   ]
  },
  {
   "cell_type": "code",
   "execution_count": null,
   "id": "04761139-64ab-4cb7-a533-7c0336fb1215",
   "metadata": {},
   "outputs": [],
   "source": [
    "%%time\n",
    "\n",
    "df = airnow.add_data(dates)\n",
    "df.head()"
   ]
  },
  {
   "cell_type": "markdown",
   "id": "b5dff545-336c-44a9-8080-bcd5dc934cc0",
   "metadata": {},
   "source": [
    "Use the `n_procs` keyword argument to control the maximum number of workers used by Dask. By default, it is set to 1. Note the faster wall time for the below."
   ]
  },
  {
   "cell_type": "code",
   "execution_count": null,
   "id": "79a65b39-a778-4dc8-99b2-7dd88688465c",
   "metadata": {},
   "outputs": [],
   "source": [
    "%%time\n",
    "\n",
    "df = airnow.add_data(dates, n_procs=4)"
   ]
  },
  {
   "cell_type": "markdown",
   "id": "96e4d8a7-24fc-4751-b61e-8b48025bdcac",
   "metadata": {},
   "source": [
    "To keep local copies of the files downloaded from AirNow, supply `download=True`.\n",
    "```python\n",
    "df = airnow.add_data(dates, download=True)\n",
    "```\n",
    "\n",
    "By default, the returned frame is in \"wide\" format, with columns for each separate variable (OZONE, PM2.5, etc.). It is possible to return the original AirNow \"long\" format (where each row is a single record with a single variable and value) by supplying `wide_fmt=False`."
   ]
  },
  {
   "cell_type": "code",
   "execution_count": null,
   "id": "f30793a3-0193-4396-8735-56676d11f93a",
   "metadata": {},
   "outputs": [],
   "source": [
    "df = airnow.add_data(dates, wide_fmt=False, n_procs=4)\n",
    "df.head()"
   ]
  },
  {
   "cell_type": "markdown",
   "id": "426fc449-368a-486f-bffc-b8b1fc292f83",
   "metadata": {},
   "source": [
    "The `daily` option will download AirNow's daily-average data. Our example `dates` array has two unique days, which will be detected automatically. If you are only interested in the daily statistics, this is a much faster method for obtaining them."
   ]
  },
  {
   "cell_type": "code",
   "execution_count": null,
   "id": "0bb0a1c8-0363-4db9-a783-ed30ca96088a",
   "metadata": {},
   "outputs": [],
   "source": [
    "%%time\n",
    "\n",
    "df = airnow.add_data(dates, daily=True, n_procs=2)\n",
    "df.head()"
   ]
  },
  {
   "cell_type": "code",
   "execution_count": null,
   "id": "8a6d0000-4c3f-4c79-96d9-423376467731",
   "metadata": {},
   "outputs": [],
   "source": [
    "df.time.unique()"
   ]
  }
 ],
 "metadata": {
  "kernelspec": {
   "display_name": "Python 3 (ipykernel)",
   "language": "python",
   "name": "python3"
  },
  "language_info": {
   "codemirror_mode": {
    "name": "ipython",
    "version": 3
   },
   "file_extension": ".py",
   "mimetype": "text/x-python",
   "name": "python",
   "nbconvert_exporter": "python",
   "pygments_lexer": "ipython3",
   "version": "3.8.12"
  },
  "toc-autonumbering": false
 },
 "nbformat": 4,
 "nbformat_minor": 5
}
